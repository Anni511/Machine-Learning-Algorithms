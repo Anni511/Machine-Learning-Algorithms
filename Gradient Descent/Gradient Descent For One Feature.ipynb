{
 "cells": [
  {
   "cell_type": "code",
   "execution_count": 1,
   "metadata": {},
   "outputs": [
    {
     "name": "stderr",
     "output_type": "stream",
     "text": [
      "C:\\Users\\DELL\\Anaconda3\\lib\\site-packages\\sklearn\\cross_validation.py:41: DeprecationWarning: This module was deprecated in version 0.18 in favor of the model_selection module into which all the refactored classes and functions are moved. Also note that the interface of the new CV iterators are different from that of this module. This module will be removed in 0.20.\n",
      "  \"This module will be removed in 0.20.\", DeprecationWarning)\n"
     ]
    }
   ],
   "source": [
    "import numpy as np\n",
    "import matplotlib.pyplot as plt\n",
    "from sklearn.linear_model import LinearRegression\n",
    "from sklearn import datasets\n",
    "import pandas as pd\n",
    "from sklearn import cross_validation as cv"
   ]
  },
  {
   "cell_type": "code",
   "execution_count": 33,
   "metadata": {
    "collapsed": true
   },
   "outputs": [],
   "source": [
    "import numpy as np\n",
    "\n",
    "# This Function is Used to update the value of slope and intercept\n",
    "def step_gradient(points, learning_rate, b_current, m_current):\n",
    "    m_slope = 0\n",
    "    b_slope = 0\n",
    "    N = len(points)\n",
    "    for i in range(N):\n",
    "        x = points[i,0]\n",
    "        y = points[i,1]\n",
    "        b_slope += -(2/N) * (y- m_current*x -b_current)\n",
    "        m_slope += -(2/N) * (y- m_current*x -b_current)*x\n",
    "    new_m = m_current - learning_rate*m_slope\n",
    "    new_b = b_current - learning_rate*b_slope\n",
    "    return(new_b,new_m)\n",
    "\n",
    "# Used to calculate the cost \n",
    "def cost_gd(b,m,points):\n",
    "    total_cost = 0\n",
    "    for i in range(len(points)):\n",
    "        x = points[i,0]\n",
    "        y = points[i, 1]        \n",
    "        total_cost += (y-(m*x+b))**2\n",
    "    return total_cost/len(points)\n",
    "\n",
    "# Runs the step_gradient function for updating the value of coefficients\n",
    "def gd_runner(points,learning_rate, num_iterations, flag, printicost):\n",
    "    b = 0 \n",
    "    m = 0\n",
    "    if(printicost==True): \n",
    "        print (\"Starting Cost: \", cost_gd(b, m, points))\n",
    "    for i in range(num_iterations):\n",
    "        if(printicost==True):  \n",
    "            if(i%100==0):\n",
    "                print (i, \" \", cost_gd(b,m,points))\n",
    "        b, m = step_gradient(points,learning_rate,b,m)  \n",
    "    if(printicost==True): \n",
    "        print (\"Final Cost: \", cost_gd(b, m, points))\n",
    "    return (b,m)\n",
    "\n",
    "def run():\n",
    "    points = np.loadtxt(open(\"data.csv\", \"rb\"), delimiter = \",\")\n",
    "    learning_rate = 0.0001\n",
    "    num_iterations = 1000\n",
    "    final_b, final_m = gd_runner(points,learning_rate, num_iterations, False, True)\n",
    "\n",
    "# Plots the Graph between Cost and Iterations    \n",
    "def CostVSiterations():\n",
    "    points = np.loadtxt(open(\"data.csv\", \"rb\"), delimiter = \",\")\n",
    "    learning_rate = 0.0001\n",
    "    num_iterations = []\n",
    "    cost = []\n",
    "    b = 0 \n",
    "    m = 0\n",
    "    print(\"Graph of Cost vs Iterations for 50 Iterations\")\n",
    "    for iterations in range(50):\n",
    "        num_iterations.append(iterations)\n",
    "        b, m = step_gradient(points,learning_rate,b,m)\n",
    "        cost.append(cost_gd(b,m,points))\n",
    "    plt.plot(num_iterations,cost)\n",
    "    plt.show()\n",
    "    \n",
    "# Shows how the line moves to fit     \n",
    "def PlotPointsLine():\n",
    "    points = np.loadtxt(open(\"data.csv\", \"rb\"), delimiter = \",\")\n",
    "    learning_rate = 0.0001\n",
    "    num_iterations = 1000\n",
    "    xtrue = []\n",
    "    ytrue = []\n",
    "    ypred = []\n",
    "    final_b, final_m = gd_runner(points,learning_rate, num_iterations, False, False)\n",
    "    for iterations in range(10):\n",
    "        xtrue = []\n",
    "        ytrue = []\n",
    "        ypred = []\n",
    "        for i in range(len(points)):\n",
    "            final_b, final_m = gd_runner(points,learning_rate, iterations, False, False)\n",
    "            xtrue.append(points[i][0])\n",
    "            ytrue.append(points[i][1])\n",
    "            ypred.append(final_m*points[i][0] + final_b)\n",
    "        plt.plot(xtrue,ypred, label = str(i))\n",
    "        plt.scatter(xtrue,ytrue)\n",
    "    plt.show()"
   ]
  },
  {
   "cell_type": "code",
   "execution_count": 34,
   "metadata": {},
   "outputs": [
    {
     "name": "stdout",
     "output_type": "stream",
     "text": [
      "Starting Cost:  5565.10783448\n",
      "0   5565.10783448\n",
      "100   112.647056643\n",
      "200   112.643452023\n",
      "300   112.63985284\n",
      "400   112.636259086\n",
      "500   112.632670753\n",
      "600   112.629087833\n",
      "700   112.625510317\n",
      "800   112.621938198\n",
      "900   112.618371467\n",
      "Final Cost:  112.614810116\n"
     ]
    }
   ],
   "source": [
    "run()"
   ]
  },
  {
   "cell_type": "code",
   "execution_count": 35,
   "metadata": {},
   "outputs": [
    {
     "name": "stdout",
     "output_type": "stream",
     "text": [
      "Graph of Cost vs Iterations for 50 Iterations\n"
     ]
    },
    {
     "data": {
      "image/png": "[encoded data removed]",
      "text/plain": [
       "<matplotlib.figure.Figure at 0x256b6901630>"
      ]
     },
     "metadata": {},
     "output_type": "display_data"
    }
   ],
   "source": [
    "CostVSiterations()"
   ]
  },
  {
   "cell_type": "code",
   "execution_count": 36,
   "metadata": {},
   "outputs": [
    {
     "data": {
      "image/png": "[encoded data removed]",
      "text/plain": [
       "<matplotlib.figure.Figure at 0x256b68bde80>"
      ]
     },
     "metadata": {},
     "output_type": "display_data"
    }
   ],
   "source": [
    "PlotPointsLine()"
   ]
  },
  {
   "cell_type": "code",
   "execution_count": null,
   "metadata": {
    "collapsed": true
   },
   "outputs": [],
   "source": []
  }
 ],
 "metadata": {
  "kernelspec": {
   "display_name": "Python 3",
   "language": "python",
   "name": "python3"
  },
  "language_info": {
   "codemirror_mode": {
    "name": "ipython",
    "version": 3
   },
   "file_extension": ".py",
   "mimetype": "text/x-python",
   "name": "python",
   "nbconvert_exporter": "python",
   "pygments_lexer": "ipython3",
   "version": "3.6.3"
  }
 },
 "nbformat": 4,
 "nbformat_minor": 2
}

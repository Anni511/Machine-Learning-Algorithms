{
 "cells": [
  {
   "cell_type": "code",
   "execution_count": 1,
   "metadata": {
    "collapsed": true
   },
   "outputs": [],
   "source": [
    "import numpy as np\n",
    "import matplotlib.pyplot as plt"
   ]
  },
  {
   "cell_type": "code",
   "execution_count": 2,
   "metadata": {
    "collapsed": true
   },
   "outputs": [],
   "source": [
    "X = np.array([[1,2],[1.5,1.8],[5,8],[8,8],[1,0.6],[9,11]])"
   ]
  },
  {
   "cell_type": "code",
   "execution_count": 3,
   "metadata": {},
   "outputs": [
    {
     "data": {
      "image/png": "[encoded data removed]",
      "text/plain": [
       "<matplotlib.figure.Figure at 0x1ef687e1b38>"
      ]
     },
     "metadata": {},
     "output_type": "display_data"
    }
   ],
   "source": [
    "plt.scatter(X[:,0],X[:,1])\n",
    "plt.show()"
   ]
  },
  {
   "cell_type": "code",
   "execution_count": 4,
   "metadata": {},
   "outputs": [],
   "source": [
    "class KMeans:\n",
    "    def __init__(self, k = 5 , max_iter = 1000):\n",
    "        self.k = k\n",
    "        self.max_iter = 1000\n",
    "    \n",
    "    def fit(self, data):\n",
    "        self.mean_points = []\n",
    "        for i in range(self.k):\n",
    "            self.mean_points.append(data[i])\n",
    "        \n",
    "        for iter in range(self.max_iter):\n",
    "            cluster_points = []\n",
    "            distances = []\n",
    "            for i in range(self.k):\n",
    "                cluster_points.append([])\n",
    "            for point in data:\n",
    "                distances = [((point - mean)**2).sum() for mean in self.mean_points]\n",
    "                min_dist = min(distances)\n",
    "                classification = distances.index(min_dist)\n",
    "                cluster_points[classification].append(point)\n",
    "            change = False\n",
    "            for i in range(self.k):\n",
    "                new_mean  = np.average(cluster_points[i], axis = 0)\n",
    "                if not np.array_equal(self.mean_points[i], new_mean):\n",
    "                    change = True\n",
    "                self.mean_points[i] = new_mean\n",
    "            if not change:\n",
    "                break\n",
    "        self.labels = self.predict(data)\n",
    "        \n",
    "    def predict(self, test_data):\n",
    "        cluster_prediction = []\n",
    "        for point in test_data:\n",
    "                distances = [((point - mean)**2).sum() for mean in self.mean_points]\n",
    "                min_dist = min(distances)\n",
    "                classification = distances.index(min_dist)\n",
    "                cluster_prediction.append(classification)\n",
    "        return cluster_prediction"
   ]
  },
  {
   "cell_type": "code",
   "execution_count": 5,
   "metadata": {},
   "outputs": [
    {
     "data": {
      "text/plain": [
       "2"
      ]
     },
     "execution_count": 5,
     "metadata": {},
     "output_type": "execute_result"
    }
   ],
   "source": [
    "c = KMeans(k = 2)\n",
    "c.k"
   ]
  },
  {
   "cell_type": "code",
   "execution_count": 6,
   "metadata": {},
   "outputs": [],
   "source": [
    "c.fit(X)"
   ]
  },
  {
   "cell_type": "code",
   "execution_count": 7,
   "metadata": {},
   "outputs": [
    {
     "data": {
      "text/plain": [
       "[0, 0, 1, 1, 0, 1]"
      ]
     },
     "execution_count": 7,
     "metadata": {},
     "output_type": "execute_result"
    }
   ],
   "source": [
    "c.labels"
   ]
  },
  {
   "cell_type": "code",
   "execution_count": 8,
   "metadata": {},
   "outputs": [
    {
     "data": {
      "text/plain": [
       "[0, 0, 1, 1, 0, 1]"
      ]
     },
     "execution_count": 8,
     "metadata": {},
     "output_type": "execute_result"
    }
   ],
   "source": [
    "c.predict(X)"
   ]
  },
  {
   "cell_type": "code",
   "execution_count": 9,
   "metadata": {},
   "outputs": [
    {
     "data": {
      "image/png": "[encoded data removed]",
      "text/plain": [
       "<matplotlib.figure.Figure at 0x1ef68b6bf28>"
      ]
     },
     "metadata": {},
     "output_type": "display_data"
    }
   ],
   "source": [
    "plt.scatter(X[:,0],X[:,1], c = c.predict(X))\n",
    "plt.show()"
   ]
  },
  {
   "cell_type": "code",
   "execution_count": null,
   "metadata": {
    "collapsed": true
   },
   "outputs": [],
   "source": []
  }
 ],
 "metadata": {
  "kernelspec": {
   "display_name": "Python 3",
   "language": "python",
   "name": "python3"
  },
  "language_info": {
   "codemirror_mode": {
    "name": "ipython",
    "version": 3
   },
   "file_extension": ".py",
   "mimetype": "text/x-python",
   "name": "python",
   "nbconvert_exporter": "python",
   "pygments_lexer": "ipython3",
   "version": "3.6.3"
  }
 },
 "nbformat": 4,
 "nbformat_minor": 2
}

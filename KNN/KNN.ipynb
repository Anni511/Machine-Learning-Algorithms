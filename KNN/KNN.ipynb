{
 "cells": [
  {
   "cell_type": "code",
   "execution_count": 68,
   "metadata": {},
   "outputs": [],
   "source": [
    "import numpy as np\n",
    "from sklearn.linear_model import LogisticRegression\n",
    "from sklearn import datasets\n",
    "from sklearn import cross_validation as cv"
   ]
  },
  {
   "cell_type": "code",
   "execution_count": 69,
   "metadata": {},
   "outputs": [],
   "source": [
    "cancer = datasets.load_breast_cancer()\n",
    "clf = LogisticRegression()\n",
    "X_train, X_test, Y_train, Y_test = cv.train_test_split(cancer.data, cancer.target, test_size=0.2)"
   ]
  },
  {
   "cell_type": "code",
   "execution_count": 70,
   "metadata": {},
   "outputs": [
    {
     "name": "stdout",
     "output_type": "stream",
     "text": [
      "[ 0  1  0  0  0  0  0  0  0  0  0  0  0  0  0  0 -1 -1  0  0  0  0  0  0 -1\n",
      "  0  0  0  0  0  0  0  0  0  0  0  0  0  0  0  0  0  0  0  0  0  0  0  0  0\n",
      "  0  0  0  0  0  0  0  0  0  0  0  0  0  0  0  0  0  0  0  0  0  0  0  0  0\n",
      "  0  0  0  0  0  0  0  0  0  0  0  0  0  0  0  0  0  0  0  0  0  0  0  0  0\n",
      "  0  0  0  0  0  0  0  0  0  0  0  0  0  0]\n"
     ]
    },
    {
     "data": {
      "text/plain": [
       "0.96491228070175439"
      ]
     },
     "execution_count": 70,
     "metadata": {},
     "output_type": "execute_result"
    }
   ],
   "source": [
    "clf.fit(X_train,Y_train)\n",
    "print(clf.predict(X_test)-Y_test)\n",
    "clf.score(X_test,Y_test)"
   ]
  },
  {
   "cell_type": "code",
   "execution_count": 71,
   "metadata": {},
   "outputs": [
    {
     "name": "stdout",
     "output_type": "stream",
     "text": [
      "[ 0.00384375  0.99615625]\n"
     ]
    }
   ],
   "source": [
    "# We can see that the 13th pos is incorrect so the probabilty is near 0.5 \n",
    "print(clf.predict_proba(X_train)[13])"
   ]
  },
  {
   "cell_type": "code",
   "execution_count": 72,
   "metadata": {},
   "outputs": [
    {
     "data": {
      "text/plain": [
       "0.94736842105263153"
      ]
     },
     "execution_count": 72,
     "metadata": {},
     "output_type": "execute_result"
    }
   ],
   "source": [
    "from sklearn.model_selection import train_test_split\n",
    "from sklearn.neighbors import KNeighborsClassifier\n",
    "import matplotlib.pyplot as plt\n",
    "import numpy as np\n",
    "clfKNN = KNeighborsClassifier()\n",
    "clfKNN.fit(X_train,Y_train)\n",
    "clfKNN.score(X_test,Y_test)\n"
   ]
  },
  {
   "cell_type": "code",
   "execution_count": 76,
   "metadata": {},
   "outputs": [
    {
     "data": {
      "image/png": "[encoded data removed]",
      "text/plain": [
       "<matplotlib.figure.Figure at 0x1a46f0df438>"
      ]
     },
     "metadata": {},
     "output_type": "display_data"
    },
    {
     "name": "stdout",
     "output_type": "stream",
     "text": [
      "Optimnal K is  5\n"
     ]
    }
   ],
   "source": [
    "k = []\n",
    "cv_score = []\n",
    "for i in range(1,77,2):\n",
    "    clfKNN = KNeighborsClassifier(n_neighbors= i)\n",
    "    k.append(i)\n",
    "    cvscr = cv.cross_val_score(clfKNN, X_test, Y_test, cv=10, scoring = 'accuracy')\n",
    "    cv_score.append(cvscr.mean())\n",
    "    #cv_score.append(clfKNN.score(X_test,Y_test))\n",
    "plt.plot(k,cv_score)\n",
    "plt.show()\n",
    "print('Optimnal K is ', k[cv_score.index(max(cv_score))])"
   ]
  },
  {
   "cell_type": "code",
   "execution_count": 77,
   "metadata": {},
   "outputs": [
    {
     "name": "stdout",
     "output_type": "stream",
     "text": [
      "(455, 30)\n",
      "(114, 30)\n",
      "[0 1 0 0 0 0 0 0 0 0 0 0 0 0 0 0 1 1 0 0 0 0 1 0 0 0 0 0 0 0 0 0 0 0 0 0 0\n",
      " 0 0 0 0 0 0 0 0 0 0 0 0 0 0 0 0 0 0 0 0 0 0 0 0 0 0 0 0 0 0 0 0 0 0 0 0 0\n",
      " 0 0 0 0 0 0 0 0 0 0 0 0 0 0 0 0 0 0 0 0 0 0 0 0 0 0 0 0 0 0 0 0 0 0 1 0 0\n",
      " 1 0 0]\n",
      "Accuracy :  0.947368421053\n"
     ]
    }
   ],
   "source": [
    "import operator\n",
    "cd = X_train\n",
    "ct = X_test\n",
    "print(cd.shape)\n",
    "print(ct.shape)\n",
    "k = 5\n",
    "scr_test = {}\n",
    "for i in range(ct.shape[0]):\n",
    "    scr_train_score = {}\n",
    "    for j in range(cd.shape[0]):\n",
    "        scr_train_score[j] = ((ct[i]-cd[j])**2).sum()\n",
    "    sorted_scr_train_score = sorted(scr_train_score.items(), key=operator.itemgetter(1))[0:k]\n",
    "    scr_test[i] = sorted_scr_train_score\n",
    "#print(scr_test)\n",
    "pred = []\n",
    "for i in range(ct.shape[0]):\n",
    "    temp_pred = []\n",
    "    for j in range(k):\n",
    "        row = scr_test[i][j][0]\n",
    "        Y = Y_train[row]\n",
    "        temp_pred.append(Y)\n",
    "    if(temp_pred.count(1)>k//2):\n",
    "        pred.append(1)\n",
    "    else:\n",
    "        pred.append(0)\n",
    "\n",
    "print(abs(pred-Y_test))\n",
    "print(\"Accuracy : \", 1-(abs(pred-Y_test).sum()/ct.shape[0]))"
   ]
  },
  {
   "cell_type": "code",
   "execution_count": 78,
   "metadata": {},
   "outputs": [
    {
     "name": "stdout",
     "output_type": "stream",
     "text": [
      "[1 0 1 1 0 0 1 1 1 0 0 1 0 1 0 1 1 0 0 1 1 1 1 0 1 1 1 1 0 0 0 1 1 1 1 1 0\n",
      " 0 1 0 1 1 1 0 0 1 0 1 1 0 0 1 0 0 0 0 0 1 1 1 1 0 1 0 0 1 1 1 0 1 1 1 1 1\n",
      " 1 1 1 1 0 0 1 1 0 1 1 1 1 0 1 0 0 0 1 0 0 1 1 1 1 1 0 1 0 1 1 0 1 0 0 1 0\n",
      " 0 0 1 1 0 1 0 0 1 1 0 0 0 1 1 0 0 0 1 1 1 1 0 0 0 1 1 0 0 1 1 0 0 1 1 1 1\n",
      " 1 1 1 1 1 1 1 1 0 1 0 1 1 1 1 0 1 1 1 1 1 1 0 0 1 1 1 0 0 0 1 0 1 1 1 1 0\n",
      " 0 1 1 0 1 1 1 1 0 0 0 1 0 1 1 1 1 1 1 1 0 0 1 0 1 0 1 1 1 1 1 1 1 0 1 1 0\n",
      " 0 1 0 1 1 0 1 1 1 1 1 0 1 1 1 1 1 1 1 1 1 1 1 0 0 1 1 1 0 0 0 1 1 1 1 1 0\n",
      " 1 0 0 0 1 1 1 1 1 1 1 0 1 0 0 1 1 1 0 1 1 0 1 1 1 0 0 1 0 1 0 0 0 1 0 0 0\n",
      " 1 1 1 0 1 1 0 0 1 0 1 1 1 1 1 1 0 0 1 1 1 0 1 1 1 0 1 1 0 0 1 1 1 0 1 1 1\n",
      " 0 1 1 1 0 0 1 1 0 0 0 0 1 0 0 0 1 0 1 1 1 1 1 0 0 1 1 1 1 1 1 1 1 1 1 1 1\n",
      " 0 1 1 1 1 0 0 1 1 1 0 1 0 1 1 1 0 1 0 1 1 1 1 1 1 1 1 1 0 1 0 0 1 0 1 0 0\n",
      " 0 1 0 1 0 0 0 1 1 1 1 1 1 0 1 0 1 1 1 0 1 1 0 1 0 1 1 0 1 1 1 1 1 1 1 1 1\n",
      " 1 0 0 1 0 0 0 1 0 1 1]\n"
     ]
    }
   ],
   "source": [
    "print(Y_train)"
   ]
  },
  {
   "cell_type": "code",
   "execution_count": null,
   "metadata": {
    "collapsed": true
   },
   "outputs": [],
   "source": []
  }
 ],
 "metadata": {
  "kernelspec": {
   "display_name": "Python 3",
   "language": "python",
   "name": "python3"
  },
  "language_info": {
   "codemirror_mode": {
    "name": "ipython",
    "version": 3
   },
   "file_extension": ".py",
   "mimetype": "text/x-python",
   "name": "python",
   "nbconvert_exporter": "python",
   "pygments_lexer": "ipython3",
   "version": "3.6.3"
  }
 },
 "nbformat": 4,
 "nbformat_minor": 2
}
